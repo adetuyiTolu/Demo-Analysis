{
 "cells": [
  {
   "cell_type": "code",
   "execution_count": 26,
   "metadata": {},
   "outputs": [],
   "source": [
    "file_location =\"../data/raw/hello.txt\"\n",
    "f=open(file_location,'r')\n"
   ]
  },
  {
   "cell_type": "code",
   "execution_count": 27,
   "metadata": {},
   "outputs": [
    {
     "name": "stdout",
     "output_type": "stream",
     "text": [
      "THis is good\n"
     ]
    }
   ],
   "source": [
    "doc = f.read()\n",
    "f.close()\n",
    "print(doc)"
   ]
  },
  {
   "cell_type": "code",
   "execution_count": 33,
   "metadata": {},
   "outputs": [
    {
     "data": {
      "text/plain": [
       "18"
      ]
     },
     "execution_count": 33,
     "metadata": {},
     "output_type": "execute_result"
    }
   ],
   "source": [
    "f = open(\"new.txt\", \"w\")\n",
    "f.write(\"THis is good again\")\n"
   ]
  },
  {
   "cell_type": "code",
   "execution_count": 35,
   "metadata": {},
   "outputs": [
    {
     "name": "stdout",
     "output_type": "stream",
     "text": [
      "{'quantity': '5', 'price': '100', 'product': ' Lion rap'}\n",
      "{'quantity': '3', 'price': '200', 'product': ' Head warmer'}\n",
      "{'quantity': '7', 'price': '250', 'product': ' Sneakers'}\n",
      "{'quantity': '4', 'price': '180', 'product': ' Shoes'}\n",
      "{'quantity': '10', 'price': '70', 'product': ' Wears'}\n",
      "{'quantity': '8', 'price': '70', 'product': ' Cup'}\n",
      "{'quantity': '9', 'price': '70', 'product': ' Frame'}\n",
      "{'quantity': '11', 'price': '220', 'product': ' Bicycle'}\n",
      "{'quantity': '20', 'price': '100', 'product': ' Phone'}\n",
      "{'quantity': '4', 'price': '250', 'product': ' Cloth'}\n"
     ]
    }
   ],
   "source": [
    "import csv\n",
    "f=open(\"../data/raw/raw.csv\",'r')\n",
    "csv_reader =csv.DictReader(f)\n",
    "products =[]\n",
    "for row in csv_reader:\n",
    "    print(row)\n",
    "    products.append(row)"
   ]
  },
  {
   "cell_type": "code",
   "execution_count": 36,
   "metadata": {},
   "outputs": [
    {
     "name": "stdout",
     "output_type": "stream",
     "text": [
      " Lion rap\n",
      " Head warmer\n",
      " Sneakers\n",
      " Shoes\n",
      " Wears\n",
      " Cup\n",
      " Frame\n",
      " Bicycle\n",
      " Phone\n",
      " Cloth\n"
     ]
    }
   ],
   "source": [
    "for product in products:\n",
    "    print(product[\"product\"])"
   ]
  }
 ],
 "metadata": {
  "kernelspec": {
   "display_name": ".venv",
   "language": "python",
   "name": "python3"
  },
  "language_info": {
   "codemirror_mode": {
    "name": "ipython",
    "version": 3
   },
   "file_extension": ".py",
   "mimetype": "text/x-python",
   "name": "python",
   "nbconvert_exporter": "python",
   "pygments_lexer": "ipython3",
   "version": "3.9.6"
  },
  "orig_nbformat": 4
 },
 "nbformat": 4,
 "nbformat_minor": 2
}
